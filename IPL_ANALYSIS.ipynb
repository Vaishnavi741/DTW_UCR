{
 "cells": [
  {
   "cell_type": "code",
   "execution_count": 1,
   "id": "11b9d113",
   "metadata": {},
   "outputs": [
    {
     "name": "stdout",
     "output_type": "stream",
     "text": [
      "Requirement already satisfied: mysql-connector-python in c:\\users\\vaish\\anaconda3\\lib\\site-packages (9.2.0)\n",
      "Note: you may need to restart the kernel to use updated packages.\n"
     ]
    }
   ],
   "source": [
    "pip install mysql-connector-python"
   ]
  },
  {
   "cell_type": "code",
   "execution_count": 4,
   "id": "110828d2",
   "metadata": {},
   "outputs": [
    {
     "name": "stdout",
     "output_type": "stream",
     "text": [
      "[(335982, 2007, 'Bangalore', datetime.date(2008, 4, 18), 'League', 'BB McCullum', 'M Chinnaswamy Stadium', 'Royal Challengers Bangalore', 'Kolkata Knight Riders', 'Royal Challengers Bangalore', 'field', 'Kolkata Knight Riders', 'runs', 140, 223, 20.0, 0, 'NA', 'Asad Rauf', 'RE Koertzen\\r'), (335983, 2007, 'Chandigarh', datetime.date(2008, 4, 19), 'League', 'MEK Hussey', 'Punjab Cricket Association Stadium, Mohali', 'Kings XI Punjab', 'Chennai Super Kings', 'Chennai Super Kings', 'bat', 'Chennai Super Kings', 'runs', 33, 241, 20.0, 0, 'NA', 'MR Benson', 'SL Shastri\\r'), (335984, 2007, 'Delhi', datetime.date(2008, 4, 19), 'League', 'MF Maharoof', 'Feroz Shah Kotla', 'Delhi Daredevils', 'Rajasthan Royals', 'Rajasthan Royals', 'bat', 'Delhi Daredevils', 'wickets', 9, 130, 20.0, 0, 'NA', 'Aleem Dar', 'GA Pratapkumar\\r'), (335985, 2007, 'Mumbai', datetime.date(2008, 4, 20), 'League', 'MV Boucher', 'Wankhede Stadium', 'Mumbai Indians', 'Royal Challengers Bangalore', 'Mumbai Indians', 'bat', 'Royal Challengers Bangalore', 'wickets', 5, 166, 20.0, 0, 'NA', 'SJ Davis', 'DJ Harper\\r'), (335986, 2007, 'Kolkata', datetime.date(2008, 4, 20), 'League', 'DJ Hussey', 'Eden Gardens', 'Kolkata Knight Riders', 'Deccan Chargers', 'Deccan Chargers', 'bat', 'Kolkata Knight Riders', 'wickets', 5, 111, 20.0, 0, 'NA', 'BF Bowden', 'K Hariharan\\r')]\n"
     ]
    }
   ],
   "source": [
    "import mysql.connector\n",
    "import pandas as pd\n",
    "conn=mysql.connector.connect(host=\"localhost\",\n",
    "                            user=\"root\",\n",
    "                            password=\"shivam123\",\n",
    "                            database=\"cricket_ipl\")\n",
    "cursor=conn.cursor()\n",
    "cursor.execute(\"SELECT * from matches1 limit 5\")\n",
    "print(cursor.fetchall())\n"
   ]
  },
  {
   "cell_type": "markdown",
   "id": "c127520b",
   "metadata": {},
   "source": []
  },
  {
   "cell_type": "markdown",
   "id": "4993c24b",
   "metadata": {},
   "source": [
    "## How many matches were played in each season?"
   ]
  },
  {
   "cell_type": "code",
   "execution_count": 5,
   "id": "e81610e7",
   "metadata": {},
   "outputs": [
    {
     "name": "stdout",
     "output_type": "stream",
     "text": [
      "    season  total_matches\n",
      "0     2007             58\n",
      "1     2009            117\n",
      "2     2011             73\n",
      "3     2012             74\n",
      "4     2013             76\n",
      "5     2014             60\n",
      "6     2015             59\n",
      "7     2016             60\n",
      "8     2017             59\n",
      "9     2018             60\n",
      "10    2019             60\n",
      "11    2020             60\n",
      "12    2021             60\n",
      "13    2022             74\n",
      "14    2023             74\n",
      "15    2024             71\n"
     ]
    }
   ],
   "source": [
    "query = \"SELECT season, COUNT(*) AS total_matches FROM matches1 GROUP BY season ORDER BY season;\"\n",
    "df = pd.read_sql(query, conn)\n",
    "print(df)\n"
   ]
  },
  {
   "cell_type": "markdown",
   "id": "7fb91bba",
   "metadata": {},
   "source": [
    "##  Which cities hosted the most IPL matches?\n",
    "\n"
   ]
  },
  {
   "cell_type": "code",
   "execution_count": 6,
   "id": "1a052992",
   "metadata": {},
   "outputs": [
    {
     "name": "stdout",
     "output_type": "stream",
     "text": [
      "         city  matches\n",
      "0      Mumbai      173\n",
      "1     Kolkata       93\n",
      "2       Delhi       90\n",
      "3     Chennai       85\n",
      "4   Hyderabad       77\n",
      "5   Bangalore       65\n",
      "6  Chandigarh       61\n",
      "7      Jaipur       57\n",
      "8          NA       51\n",
      "9        Pune       51\n"
     ]
    },
    {
     "name": "stderr",
     "output_type": "stream",
     "text": [
      "C:\\Users\\vaish\\anaconda3\\lib\\site-packages\\pandas\\io\\sql.py:762: UserWarning: pandas only support SQLAlchemy connectable(engine/connection) ordatabase string URI or sqlite3 DBAPI2 connectionother DBAPI2 objects are not tested, please consider using SQLAlchemy\n",
      "  warnings.warn(\n"
     ]
    }
   ],
   "source": [
    "query = \"SELECT city, COUNT(*) AS matches FROM matches1 GROUP BY city ORDER BY matches DESC LIMIT 10;\"\n",
    "df = pd.read_sql(query, conn)\n",
    "print(df)\n"
   ]
  },
  {
   "cell_type": "markdown",
   "id": "5166af55",
   "metadata": {},
   "source": [
    "## Which teams have won the most matches?"
   ]
  },
  {
   "cell_type": "code",
   "execution_count": 7,
   "id": "2e2d37c7",
   "metadata": {},
   "outputs": [
    {
     "name": "stdout",
     "output_type": "stream",
     "text": [
      "                         winner  wins\n",
      "0                Mumbai Indians   144\n",
      "1           Chennai Super Kings   138\n",
      "2         Kolkata Knight Riders   131\n",
      "3   Royal Challengers Bangalore   116\n",
      "4              Rajasthan Royals   112\n",
      "5               Kings XI Punjab    88\n",
      "6           Sunrisers Hyderabad    88\n",
      "7              Delhi Daredevils    67\n",
      "8                Delhi Capitals    48\n",
      "9               Deccan Chargers    29\n",
      "10               Gujarat Titans    28\n",
      "11                 Punjab Kings    24\n",
      "12         Lucknow Super Giants    24\n",
      "13                Gujarat Lions    13\n",
      "14                Pune Warriors    12\n",
      "15       Rising Pune Supergiant    10\n",
      "16  Royal Challengers Bengaluru     7\n",
      "17         Kochi Tuskers Kerala     6\n",
      "18                           NA     5\n",
      "19      Rising Pune Supergiants     5\n"
     ]
    },
    {
     "name": "stderr",
     "output_type": "stream",
     "text": [
      "C:\\Users\\vaish\\anaconda3\\lib\\site-packages\\pandas\\io\\sql.py:762: UserWarning: pandas only support SQLAlchemy connectable(engine/connection) ordatabase string URI or sqlite3 DBAPI2 connectionother DBAPI2 objects are not tested, please consider using SQLAlchemy\n",
      "  warnings.warn(\n"
     ]
    }
   ],
   "source": [
    "query = \"SELECT winner, COUNT(*) AS wins FROM matches1 GROUP BY winner ORDER BY wins DESC;\"\n",
    "df = pd.read_sql(query, conn)\n",
    "print(df)\n"
   ]
  },
  {
   "cell_type": "markdown",
   "id": "1c8fc21c",
   "metadata": {},
   "source": [
    "## Does winning the toss help win the match?"
   ]
  },
  {
   "cell_type": "code",
   "execution_count": 8,
   "id": "dd231736",
   "metadata": {},
   "outputs": [
    {
     "name": "stdout",
     "output_type": "stream",
     "text": [
      "   toss_win_percentage\n",
      "0              50.5936\n"
     ]
    },
    {
     "name": "stderr",
     "output_type": "stream",
     "text": [
      "C:\\Users\\vaish\\anaconda3\\lib\\site-packages\\pandas\\io\\sql.py:762: UserWarning: pandas only support SQLAlchemy connectable(engine/connection) ordatabase string URI or sqlite3 DBAPI2 connectionother DBAPI2 objects are not tested, please consider using SQLAlchemy\n",
      "  warnings.warn(\n"
     ]
    }
   ],
   "source": [
    "query = \"SELECT (SUM(CASE WHEN toss_winner = winner THEN 1 ELSE 0 END) / COUNT(*)) * 100 AS toss_win_percentage FROM matches1;\"\n",
    "df = pd.read_sql(query, conn)\n",
    "print(df)\n"
   ]
  },
  {
   "cell_type": "markdown",
   "id": "99fda943",
   "metadata": {},
   "source": [
    "## Most Player of the Match Awards"
   ]
  },
  {
   "cell_type": "code",
   "execution_count": 9,
   "id": "cb19b8df",
   "metadata": {},
   "outputs": [
    {
     "name": "stdout",
     "output_type": "stream",
     "text": [
      "  player_of_match  awards\n",
      "0  AB de Villiers      25\n",
      "1        CH Gayle      22\n",
      "2       RG Sharma      19\n",
      "3       DA Warner      18\n",
      "4         V Kohli      18\n",
      "5        MS Dhoni      17\n",
      "6       RA Jadeja      16\n",
      "7       SR Watson      16\n",
      "8       YK Pathan      16\n",
      "9       SP Narine      15\n"
     ]
    },
    {
     "name": "stderr",
     "output_type": "stream",
     "text": [
      "C:\\Users\\vaish\\anaconda3\\lib\\site-packages\\pandas\\io\\sql.py:762: UserWarning: pandas only support SQLAlchemy connectable(engine/connection) ordatabase string URI or sqlite3 DBAPI2 connectionother DBAPI2 objects are not tested, please consider using SQLAlchemy\n",
      "  warnings.warn(\n"
     ]
    }
   ],
   "source": [
    "query = \"SELECT player_of_match, COUNT(*) AS awards FROM matches1 GROUP BY player_of_match ORDER BY awards DESC LIMIT 10;\"\n",
    "df = pd.read_sql(query, conn)\n",
    "print(df)\n"
   ]
  },
  {
   "cell_type": "markdown",
   "id": "57183ad6",
   "metadata": {},
   "source": [
    "## Biggest win margins (by runs)"
   ]
  },
  {
   "cell_type": "code",
   "execution_count": 10,
   "id": "ad858347",
   "metadata": {},
   "outputs": [
    {
     "name": "stdout",
     "output_type": "stream",
     "text": [
      "                        winner  max_margin\n",
      "0               Mumbai Indians         146\n",
      "1  Royal Challengers Bangalore         144\n",
      "2        Kolkata Knight Riders         140\n",
      "3          Sunrisers Hyderabad         118\n",
      "4              Kings XI Punjab         111\n"
     ]
    },
    {
     "name": "stderr",
     "output_type": "stream",
     "text": [
      "C:\\Users\\vaish\\anaconda3\\lib\\site-packages\\pandas\\io\\sql.py:762: UserWarning: pandas only support SQLAlchemy connectable(engine/connection) ordatabase string URI or sqlite3 DBAPI2 connectionother DBAPI2 objects are not tested, please consider using SQLAlchemy\n",
      "  warnings.warn(\n"
     ]
    }
   ],
   "source": [
    "query = \"SELECT winner, MAX(result_margin) AS max_margin FROM matches1 WHERE result = 'runs' GROUP BY winner ORDER BY max_margin DESC LIMIT 5;\"\n",
    "df = pd.read_sql(query, conn)\n",
    "print(df)\n"
   ]
  },
  {
   "cell_type": "markdown",
   "id": "f82bf17d",
   "metadata": {},
   "source": [
    "## Super Over Analysis"
   ]
  },
  {
   "cell_type": "code",
   "execution_count": 14,
   "id": "dc05ffed",
   "metadata": {},
   "outputs": [
    {
     "name": "stdout",
     "output_type": "stream",
     "text": [
      "   super_over_matches\n",
      "0                   0\n"
     ]
    }
   ],
   "source": [
    "query = \"SELECT COUNT(*) AS super_over_matches FROM matches1 WHERE super_over =1;\"\n",
    "df = pd.read_sql(query, conn)\n",
    "print(df)\n"
   ]
  },
  {
   "cell_type": "code",
   "execution_count": null,
   "id": "1a8b2a2a",
   "metadata": {},
   "outputs": [],
   "source": []
  }
 ],
 "metadata": {
  "kernelspec": {
   "display_name": "Python 3 (ipykernel)",
   "language": "python",
   "name": "python3"
  },
  "language_info": {
   "codemirror_mode": {
    "name": "ipython",
    "version": 3
   },
   "file_extension": ".py",
   "mimetype": "text/x-python",
   "name": "python",
   "nbconvert_exporter": "python",
   "pygments_lexer": "ipython3",
   "version": "3.9.13"
  }
 },
 "nbformat": 4,
 "nbformat_minor": 5
}
